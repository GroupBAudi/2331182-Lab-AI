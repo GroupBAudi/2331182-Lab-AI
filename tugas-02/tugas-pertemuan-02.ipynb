{
 "cells": [
  {
   "cell_type": "code",
   "execution_count": null,
   "id": "1ca8530b",
   "metadata": {},
   "outputs": [],
   "source": [
    "import numpy as np"
   ]
  },
  {
   "cell_type": "code",
   "execution_count": 6,
   "id": "4590d178",
   "metadata": {},
   "outputs": [],
   "source": [
    "\n",
    "# Fungsi keanggotaan Gaussian sederhana\n",
    "def gaussian_mf(x, mean, sigma):\n",
    "    return np.exp(-((x - mean) ** 2) / (2 * sigma ** 2))\n",
    "\n",
    "def classify_iris(sepal_length, sepal_width, petal_length, petal_width):\n",
    "    # Hitung keanggotaan untuk masing-masing kelas\n",
    "    setosa_score = (\n",
    "        gaussian_mf(sepal_length, 5.0, 0.4) *\n",
    "        gaussian_mf(sepal_width, 3.4, 0.3) *\n",
    "        gaussian_mf(petal_length, 1.5, 0.2) *\n",
    "        gaussian_mf(petal_width, 0.2, 0.1)\n",
    "    )\n",
    "\n",
    "    versicolor_score = (\n",
    "        gaussian_mf(sepal_length, 5.9, 0.5) *\n",
    "        gaussian_mf(sepal_width, 2.8, 0.3) *\n",
    "        gaussian_mf(petal_length, 4.2, 0.4) *\n",
    "        gaussian_mf(petal_width, 1.3, 0.2)\n",
    "    )\n",
    "\n",
    "    virginica_score = (\n",
    "        gaussian_mf(sepal_length, 6.5, 0.6) *\n",
    "        gaussian_mf(sepal_width, 3.0, 0.4) *\n",
    "        gaussian_mf(petal_length, 5.5, 0.5) *\n",
    "        gaussian_mf(petal_width, 2.0, 0.3)\n",
    "    )\n",
    "\n",
    "    # Normalisasi skor\n",
    "    total = setosa_score + versicolor_score + virginica_score\n",
    "    setosa_prob = setosa_score / total\n",
    "    versicolor_prob = versicolor_score / total\n",
    "    virginica_prob = virginica_score / total\n",
    "\n",
    "    # Output klasifikasi\n",
    "    if max(setosa_prob, versicolor_prob, virginica_prob) == setosa_prob:\n",
    "        result = \"Setosa\"\n",
    "    elif max(setosa_prob, versicolor_prob, virginica_prob) == versicolor_prob:\n",
    "        result = \"Versicolor\"\n",
    "    else:\n",
    "        result = \"Virginica\"\n",
    "\n",
    "    return result, setosa_prob, versicolor_prob, virginica_prob\n"
   ]
  },
  {
   "cell_type": "code",
   "execution_count": 15,
   "id": "be424209",
   "metadata": {},
   "outputs": [
    {
     "name": "stdout",
     "output_type": "stream",
     "text": [
      "Sample 1:\n",
      "  Hasil klasifikasi: Setosa\n",
      "  Probabilitas: Setosa=1.00, Versicolor=0.00, Virginica=0.00\n",
      "\n",
      "Pembatas -----------==================Pembatas===================---------- Pembatas\n",
      "\n",
      "Sample 1:\n",
      "  Hasil klasifikasi: Virginica\n",
      "  Probabilitas: Setosa=0.00, Versicolor=0.39, Virginica=0.61\n",
      "\n",
      "Sample 2:\n",
      "  Hasil klasifikasi: Virginica\n",
      "  Probabilitas: Setosa=0.00, Versicolor=0.00, Virginica=1.00\n",
      "\n",
      "Sample 3:\n",
      "  Hasil klasifikasi: Setosa\n",
      "  Probabilitas: Setosa=1.00, Versicolor=0.00, Virginica=0.00\n",
      "\n",
      "Sample 4:\n",
      "  Hasil klasifikasi: Versicolor\n",
      "  Probabilitas: Setosa=0.00, Versicolor=1.00, Virginica=0.00\n",
      "\n"
     ]
    }
   ],
   "source": [
    "# Fungsi untuk mengklasifikasikan satu atau banyak sample sekaligus\n",
    "def classify(*samples):\n",
    "    for i, sample in enumerate(samples, 1):\n",
    "        sepal_length, sepal_width, petal_length, petal_width = sample\n",
    "        result, setosa_prob, versicolor_prob, virginica_prob = classify_iris(sepal_length, sepal_width, petal_length, petal_width)\n",
    "        print(f\"Sample {i}:\")\n",
    "        print(f\"  Hasil klasifikasi: {result}\")\n",
    "        print(f\"  Probabilitas: Setosa={setosa_prob:.2f}, Versicolor={versicolor_prob:.2f}, Virginica={virginica_prob:.2f}\\n\")\n",
    "\n",
    "# Contoh penggunaan fungsi dengan variabel per sample\n",
    "test = (5.1, 3.5, 1.4, 0.2)\n",
    "test2 = (7.0, 3.2, 4.7, 1.4)\n",
    "test3 = (6.3, 3.3, 6.0, 2.5)\n",
    "test4 = (5.4, 3.9, 1.7, 0.4)\n",
    "test5 = (6.1, 2.8, 4.0, 1.3)\n",
    "\n",
    "# Memanggil satu sample\n",
    "classify(test)\n",
    "print(\"Pembatas -----------==================Pembatas===================---------- Pembatas\\n\")\n",
    "# Memanggil beberapa sample sekaligus\n",
    "classify(test2, test3, test4, test5)"
   ]
  }
 ],
 "metadata": {
  "kernelspec": {
   "display_name": ".venv",
   "language": "python",
   "name": "python3"
  },
  "language_info": {
   "codemirror_mode": {
    "name": "ipython",
    "version": 3
   },
   "file_extension": ".py",
   "mimetype": "text/x-python",
   "name": "python",
   "nbconvert_exporter": "python",
   "pygments_lexer": "ipython3",
   "version": "3.13.7"
  }
 },
 "nbformat": 4,
 "nbformat_minor": 5
}
